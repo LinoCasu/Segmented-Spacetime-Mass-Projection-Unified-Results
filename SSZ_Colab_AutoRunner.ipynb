{
  "cells": [
    {
      "cell_type": "markdown",
      "metadata": {},
      "source": [
        "# SSZ Colab AutoRunner (Minimal)\n",
        "This notebook only installs basic dependencies and runs **`run_all_ssz_terminal.py`** exactly **once**.\n",
        "No other scripts are launched here."
      ]
    },
    {
      "cell_type": "markdown",
      "metadata": {},
      "source": [
        "## 0) (Optional) Mount Google Drive\n",
        "If your project lives in Drive, mount and set `PROJECT_DIR` accordingly. Otherwise skip to **1B** (ZIP upload)."
      ]
    },
    {
      "cell_type": "code",
      "metadata": {},
      "source": [
        "from google.colab import drive\n",
        "drive.mount('/content/drive')\n",
        "PROJECT_DIR = '/content/drive/MyDrive/Segmented-Spacetime-Mass-Projection-Unified-Results'  # <--- change if needed\n",
        "print('PROJECT_DIR =', PROJECT_DIR)"
      ],
      "outputs": [],
      "execution_count": null
    },
    {
      "cell_type": "markdown",
      "metadata": {},
      "source": [
        "## 1A) Install minimal dependencies\n",
        "Add or remove packages as needed for your environment."
      ]
    },
    {
      "cell_type": "code",
      "metadata": {},
      "source": [
        "%%bash\n",
        "python -V\n",
        "pip -q install --upgrade pip\n",
        "# Minimal set; extend if your runner needs more:\n",
        "pip -q install numpy pandas scipy matplotlib sympy numba\n",
        "echo \"Deps installed.\""
      ],
      "outputs": [],
      "execution_count": null
    },
    {
      "cell_type": "markdown",
      "metadata": {},
      "source": [
        "## 1B) (Alternative) Upload ZIP of your repo (if not using Drive)\n",
        "This will unzip to `/content/proj` and set `PROJECT_DIR` accordingly."
      ]
    },
    {
      "cell_type": "code",
      "metadata": {},
      "source": [
        "import os, zipfile\n",
        "from google.colab import files\n",
        "\n",
        "target = '/content/proj'\n",
        "os.makedirs(target, exist_ok=True)\n",
        "\n",
        "print('If you want to upload a ZIP of your project, select it now. Otherwise cancel.')\n",
        "uploaded = files.upload()\n",
        "if uploaded:\n",
        "    zipname = next(iter(uploaded.keys()))\n",
        "    with zipfile.ZipFile(zipname, 'r') as zf:\n",
        "        zf.extractall(target)\n",
        "    print('Unzipped to', target)\n",
        "    # Try to auto-detect a top-level directory containing the runner\n",
        "    cand = None\n",
        "    for root, dirs, files_list in os.walk(target):\n",
        "        if 'run_all_ssz_terminal.py' in files_list:\n",
        "            cand = root\n",
        "            break\n",
        "    if cand:\n",
        "        PROJECT_DIR = cand\n",
        "    else:\n",
        "        PROJECT_DIR = target\n",
        "    print('PROJECT_DIR =', PROJECT_DIR)\n",
        "else:\n",
        "    print('No upload — using PROJECT_DIR as set above (Drive path or default).')"
      ],
      "outputs": [],
      "execution_count": null
    },
    {
      "cell_type": "markdown",
      "metadata": {},
      "source": [
        "## 2) Run `run_all_ssz_terminal.py` (single call)\n",
        "This enforces UTF‑8 I/O and runs the pipeline exactly once."
      ]
    },
    {
      "cell_type": "code",
      "metadata": {},
      "source": [
        "import os, sys, subprocess, shlex, pathlib\n",
        "\n",
        "# Make sure PROJECT_DIR is defined\n",
        "try:\n",
        "    PROJECT_DIR\n",
        "except NameError:\n",
        "    PROJECT_DIR = '/content'  # fallback\n",
        "\n",
        "runner = pathlib.Path(PROJECT_DIR) / 'run_all_ssz_terminal.py'\n",
        "assert runner.exists(), f\"Runner not found: {runner}\"\n",
        "\n",
        "env = os.environ.copy()\n",
        "env[\"PYTHONUTF8\"] = \"1\"\n",
        "env[\"PYTHONIOENCODING\"] = \"utf-8\"\n",
        "env[\"PYTHONWARNINGS\"] = \"ignore\"\n",
        "\n",
        "print(\"=== EXEC ===\")\n",
        "print(\"Project dir:\", PROJECT_DIR)\n",
        "print(\"Runner     :\", str(runner))\n",
        "\n",
        "# Change to project dir and execute once\n",
        "proc = subprocess.run(\n",
        "    [sys.executable, str(runner)],\n",
        "    cwd=PROJECT_DIR,\n",
        "    env=env,\n",
        "    text=True,\n",
        "    capture_output=True,\n",
        ")\n",
        "\n",
        "# Stream outputs safely\n",
        "for label, data in ((\"STDOUT\", proc.stdout), (\"STDERR\", proc.stderr)):\n",
        "    if data:\n",
        "        print(f\"--- {label} ---\")\n",
        "        try:\n",
        "            print(data)\n",
        "        except UnicodeEncodeError:\n",
        "            print(data.encode(\"utf-8\", \"ignore\").decode(\"utf-8\"))\n",
        "\n",
        "print(\"Exit code:\", proc.returncode)\n",
        "if proc.returncode != 0:\n",
        "    raise SystemExit(proc.returncode)"
      ],
      "outputs": [],
      "execution_count": null
    },
    {
      "cell_type": "markdown",
      "metadata": {},
      "source": [
        "### Notes\n",
        "- This notebook **only** runs `run_all_ssz_terminal.py`. No other scripts are executed here.\n",
        "- If your runner needs more packages, add them to the pip cell.\n",
        "- All UTF‑8 settings are enforced to avoid console encoding issues."
      ]
    }
  ],
  "metadata": {
    "kernelspec": {
      "display_name": "Python 3",
      "language": "python",
      "name": "python3"
    },
    "language_info": {
      "name": "python",
      "version": "3.x"
    },
    "colab": {
      "name": "SSZ_Colab_AutoRunner_Min.ipynb"
    }
  },
  "nbformat": 4,
  "nbformat_minor": 5
}