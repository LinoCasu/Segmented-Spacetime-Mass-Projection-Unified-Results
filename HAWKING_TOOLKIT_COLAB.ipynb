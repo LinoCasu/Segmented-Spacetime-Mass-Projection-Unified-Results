{
 "cells": [
  {
   "cell_type": "markdown",
   "metadata": {},
   "source": [
    "# Hawking Proxy Toolkit - Google Colab\n",
    "\n",
    "**End-to-end pipeline for testing thermal vs non-thermal spectra**\n",
    "\n",
    "Runs complete workflow:\n",
    "1. Fetch M87 spectrum from NED\n",
    "2. Parse SSZ parameters\n",
    "3. Fit thermal (Planck) vs non-thermal (power-law)\n",
    "4. Compare via ΔBIC\n",
    "\n",
    "© 2025 Carmen Wrede, Lino Casu"
   ]
  },
  {
   "cell_type": "markdown",
   "metadata": {},
   "source": [
    "## 1. Installation & Setup"
   ]
  },
  {
   "cell_type": "code",
   "execution_count": null,
   "metadata": {},
   "outputs": [],
   "source": [
    "# Install dependencies\n",
    "!pip install -q astroquery astropy numpy pandas scipy matplotlib\n",
    "\n",
    "# Clone repository\n",
    "!git clone https://github.com/error-wtf/Segmented-Spacetime-Mass-Projection-Unified-Results.git\n",
    "\n",
    "# Change directory\n",
    "%cd Segmented-Spacetime-Mass-Projection-Unified-Results\n",
    "\n",
    "print(\"✅ Setup complete!\")"
   ]
  },
  {
   "cell_type": "markdown",
   "metadata": {},
   "source": [
    "## 2. Fetch M87 Spectrum from NED"
   ]
  },
  {
   "cell_type": "code",
   "execution_count": null,
   "metadata": {},
   "outputs": [],
   "source": [
    "# Download M87 continuum spectrum from NASA/IPAC NED\n",
    "!python scripts/data_acquisition/fetch_m87_spectrum.py \\\n",
    "    --name \"M87\" \\\n",
    "    --minGHz 30 \\\n",
    "    --maxGHz 1000 \\\n",
    "    --out m87_spectrum.csv"
   ]
  },
  {
   "cell_type": "markdown",
   "metadata": {},
   "source": [
    "## 3. Prepare SSZ Config\n",
    "\n",
    "**Option A:** Use template (quick test)"
   ]
  },
  {
   "cell_type": "code",
   "execution_count": null,
   "metadata": {},
   "outputs": [],
   "source": [
    "# Use template config\n",
    "!cp data/config/ssz_config_m87_TEMPLATE.json ssz_config.json\n",
    "print(\"✅ Using template SSZ config\")"
   ]
  },
  {
   "cell_type": "markdown",
   "metadata": {},
   "source": [
    "**Option B:** Parse from SSZ report (if you have one)"
   ]
  },
  {
   "cell_type": "code",
   "execution_count": null,
   "metadata": {},
   "outputs": [],
   "source": [
    "# Parse SSZ report to extract r_φ, A_H, κ_seg\n",
    "!python scripts/data_acquisition/parse_ssz_horizon.py \\\n",
    "    --report reports/hawking_proxy_fit.md \\\n",
    "    --out ssz_config.json"
   ]
  },
  {
   "cell_type": "markdown",
   "metadata": {},
   "source": [
    "## 4. Fit Spectrum (Thermal vs Non-thermal)"
   ]
  },
  {
   "cell_type": "code",
   "execution_count": null,
   "metadata": {},
   "outputs": [],
   "source": [
    "# Fit thermal (Planck) vs non-thermal (power-law) models\n",
    "!python scripts/analysis/hawking_proxy_fit.py \\\n",
    "    --spectrum m87_spectrum.csv \\\n",
    "    --ssz ssz_config.json \\\n",
    "    --C 1e30 \\\n",
    "    --out hawking_fit_report.md \\\n",
    "    --plot hawking_fit_plot.png"
   ]
  },
  {
   "cell_type": "markdown",
   "metadata": {},
   "source": [
    "## 5. View Results\n",
    "\n",
    "### Report (Markdown)"
   ]
  },
  {
   "cell_type": "code",
   "execution_count": null,
   "metadata": {},
   "outputs": [],
   "source": [
    "# Display report\n",
    "from IPython.display import Markdown\n",
    "\n",
    "with open('hawking_fit_report.md', 'r', encoding='utf-8') as f:\n",
    "    report = f.read()\n",
    "\n",
    "display(Markdown(report))"
   ]
  },
  {
   "cell_type": "markdown",
   "metadata": {},
   "source": [
    "### Plot (Log-log spectrum)"
   ]
  },
  {
   "cell_type": "code",
   "execution_count": null,
   "metadata": {},
   "outputs": [],
   "source": [
    "# Display plot\n",
    "from IPython.display import Image\n",
    "\n",
    "display(Image('hawking_fit_plot.png'))"
   ]
  },
  {
   "cell_type": "markdown",
   "metadata": {},
   "source": [
    "## 6. Alternative: Run Extended Test Suite"
   ]
  },
  {
   "cell_type": "code",
   "execution_count": null,
   "metadata": {},
   "outputs": [],
   "source": [
    "# Run comprehensive test with template data\n",
    "!python scripts/tests/test_hawking_spectrum_continuum.py"
   ]
  },
  {
   "cell_type": "markdown",
   "metadata": {},
   "source": [
    "## 7. Download Results (Optional)\n",
    "\n",
    "Download files before session ends:"
   ]
  },
  {
   "cell_type": "code",
   "execution_count": null,
   "metadata": {},
   "outputs": [],
   "source": [
    "# Download report\n",
    "from google.colab import files\n",
    "\n",
    "files.download('hawking_fit_report.md')\n",
    "files.download('hawking_fit_plot.png')\n",
    "files.download('m87_spectrum.csv')\n",
    "\n",
    "print(\"✅ Files downloaded!\")"
   ]
  },
  {
   "cell_type": "markdown",
   "metadata": {},
   "source": [
    "## 8. Additional Sources (Optional)\n",
    "\n",
    "Try different sources:"
   ]
  },
  {
   "cell_type": "code",
   "execution_count": null,
   "metadata": {},
   "outputs": [],
   "source": [
    "# Sgr A* (Galactic Center)\n",
    "!python scripts/data_acquisition/fetch_m87_spectrum.py \\\n",
    "    --name \"Sgr A*\" \\\n",
    "    --M_solar 4.15e6 \\\n",
    "    --out sgra_spectrum.csv\n",
    "\n",
    "# Fit Sgr A*\n",
    "!python scripts/analysis/hawking_proxy_fit.py \\\n",
    "    --spectrum sgra_spectrum.csv \\\n",
    "    --ssz ssz_config.json \\\n",
    "    --out sgra_fit.md \\\n",
    "    --plot sgra_fit.png"
   ]
  },
  {
   "cell_type": "markdown",
   "metadata": {},
   "source": [
    "---\n",
    "\n",
    "## ✅ Complete!\n",
    "\n",
    "**What was done:**\n",
    "- ✅ Fetched real M87 spectrum from NED\n",
    "- ✅ Fitted thermal (Planck) vs non-thermal (power-law)\n",
    "- ✅ Calculated ΔBIC for model selection\n",
    "- ✅ Generated plot + report\n",
    "\n",
    "**Interpretation:**\n",
    "- **ΔBIC > 10:** Strong evidence for thermal (Hawking-like)\n",
    "- **ΔBIC > 2:** Positive evidence for thermal\n",
    "- **|ΔBIC| < 2:** Inconclusive\n",
    "- **ΔBIC < -2:** Evidence for non-thermal\n",
    "- **ΔBIC < -10:** Strong evidence for non-thermal\n",
    "\n",
    "---\n",
    "\n",
    "**© 2025 Carmen Wrede, Lino Casu**  \n",
    "**Licensed under the ANTI-CAPITALIST SOFTWARE LICENSE v1.4**"
   ]
  }
 ],
 "metadata": {
  "kernelspec": {
   "display_name": "Python 3",
   "language": "python",
   "name": "python3"
  },
  "language_info": {
   "name": "python",
   "version": "3.10.0"
  }
 },
 "nbformat": 4,
 "nbformat_minor": 2
}
